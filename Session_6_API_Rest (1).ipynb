{
  "nbformat": 4,
  "nbformat_minor": 0,
  "metadata": {
    "colab": {
      "provenance": [],
      "toc_visible": true
    },
    "kernelspec": {
      "name": "python3",
      "display_name": "Python 3"
    },
    "language_info": {
      "name": "python"
    }
  },
  "cells": [
    {
      "cell_type": "markdown",
      "source": [
        "# Session 6. Working with API rest\n",
        "\n",
        "A colab created by David Chaves, Pablo Calleja and Daniel Garijo. Universidad Politécnica de Madrid UPM. Digitial Twins Master"
      ],
      "metadata": {
        "id": "IMFaAqs5LdVx"
      }
    },
    {
      "cell_type": "markdown",
      "source": [
        "## Exercise 1. Request library\n",
        "\n",
        "Implement all the CRUD methods for the users database. Users are represented by their id\n",
        "\n",
        "Create your own id\n",
        "\n",
        "https://requests.readthedocs.io/en/latest/user/quickstart/#make-a-request"
      ],
      "metadata": {
        "id": "8kirg9ouMRKh"
      }
    },
    {
      "cell_type": "markdown",
      "source": [
        "**Get all**"
      ],
      "metadata": {
        "id": "gtSMM9_sPDtz"
      }
    },
    {
      "cell_type": "code",
      "source": [
        "import requests\n",
        "\n",
        "url = 'https://database.pcalleja.linkeddata.es/users'\n",
        "response = requests.get(url)\n",
        "print(response.json())"
      ],
      "metadata": {
        "colab": {
          "base_uri": "https://localhost:8080/"
        },
        "id": "0EZ8Sw2S_oYN",
        "outputId": "3980779b-4a73-4004-f5fe-5221e3916afe"
      },
      "execution_count": 17,
      "outputs": [
        {
          "output_type": "stream",
          "name": "stdout",
          "text": [
            "[{'classes': [{'name': 'Programming'}], 'name': 'Pablo', 'status': 'professor', 'user': 'pcalleja'}, {'classes': [{'name': 'Programming'}], 'name': 'David', 'status': 'professor', 'user': 'dchaves'}, {'classes': [{'name': 'Programming'}], 'name': 'Daniel', 'status': 'professor', 'user': 'dgarijo'}, {'classes': [{'name': 'Programming'}, {'name': 'Other'}], 'name': 'user', 'status': 'student', 'user': 'user'}, {'name': 'Maria', 'status': 'professor', 'user': 'mpoveda'}]\n"
          ]
        }
      ]
    },
    {
      "cell_type": "markdown",
      "source": [
        "**Get Function**"
      ],
      "metadata": {
        "id": "kYfjmQSiO5HA"
      }
    },
    {
      "cell_type": "code",
      "source": [
        "import requests\n",
        "url = 'https://database.pcalleja.linkeddata.es/users/pcalleja'\n"
      ],
      "metadata": {
        "id": "s8khyR7oO3Jc"
      },
      "execution_count": null,
      "outputs": []
    },
    {
      "cell_type": "markdown",
      "source": [
        "**Post Function**\n",
        "Put yourself! name, status, user, and list of classes"
      ],
      "metadata": {
        "id": "OrKXCnT1YiMr"
      }
    },
    {
      "cell_type": "code",
      "source": [],
      "metadata": {
        "id": "eZIwyi4bpT40"
      },
      "execution_count": null,
      "outputs": []
    },
    {
      "cell_type": "markdown",
      "source": [
        " **Put function** Update your classes"
      ],
      "metadata": {
        "id": "GXL5d-xIYwRw"
      }
    },
    {
      "cell_type": "code",
      "source": [],
      "metadata": {
        "id": "z3heVFm_paqU"
      },
      "execution_count": null,
      "outputs": []
    },
    {
      "cell_type": "code",
      "source": [],
      "metadata": {
        "id": "LDoWn-hHY2i0"
      },
      "execution_count": null,
      "outputs": []
    },
    {
      "cell_type": "markdown",
      "source": [
        "**Delete function**"
      ],
      "metadata": {
        "id": "QnI1Ye8YY24u"
      }
    },
    {
      "cell_type": "code",
      "source": [],
      "metadata": {
        "id": "JwRuzU_6penq"
      },
      "execution_count": 10,
      "outputs": []
    },
    {
      "cell_type": "markdown",
      "source": [
        "# Flask Library. Creating your own API REST\n",
        "https://flask.palletsprojects.com/en/3.0.x/quickstart/#a-minimal-application"
      ],
      "metadata": {
        "id": "4VKlb-_YOqHp"
      }
    },
    {
      "cell_type": "code",
      "source": [
        "from flask import Flask, request, jsonify\n",
        "\n",
        "app = Flask(__name__)\n",
        "\n",
        "# My posts\n",
        "posts = [\n",
        "    {'title': 'Hello', 'text': \"Hello friend\"},\n",
        "    {'title': 'Some Header 1', 'text': \"doing your stuff\"},\n",
        "    {'title': 'Title', 'text': \"An article\"}\n",
        "]\n",
        "\n",
        "\n",
        "# Endpoint to get a list of all\n",
        "@app.route('/posts', methods=['GET'])\n",
        "def get_posts():\n",
        "    return jsonify(posts)\n",
        "\n",
        "# Endpoint to get a single by title\n",
        "@app.route('/posts/<post_title>', methods=['GET'])\n",
        "def get_post(post_title):\n",
        "    post= None\n",
        "    for p in posts:\n",
        "      if p['Title'] == post_title:\n",
        "        post=p\n",
        "\n",
        "    if post is None:\n",
        "        return  'Todo not found', 404\n",
        "    return jsonify(post)\n",
        "\n",
        "# Endpoint to create a new todo\n",
        "@app.route('/posts', methods=['POST'])\n",
        "def create_post():\n",
        "\n",
        "    data = request.get_json()\n",
        "    new_post = {'title': data['title'], 'text': data['text']}\n",
        "    posts.append(new_post)\n",
        "\n",
        "    return jsonify(new_post), 201\n",
        "\n",
        "\n",
        "if __name__ == '__main__':\n",
        "    app.run(debug=True)"
      ],
      "metadata": {
        "id": "flLbxhydPxEY"
      },
      "execution_count": null,
      "outputs": []
    },
    {
      "cell_type": "markdown",
      "source": [
        "**Instructions**\n",
        "\n",
        "Copy the code above into a file named **service.py**"
      ],
      "metadata": {
        "id": "OrJ_1xjvZJEj"
      }
    },
    {
      "cell_type": "code",
      "source": [
        "# To run service\n",
        "!nohup python service.py >./output 2>&1 &"
      ],
      "metadata": {
        "id": "WBoQP68xSicu"
      },
      "execution_count": null,
      "outputs": []
    },
    {
      "cell_type": "markdown",
      "source": [
        "## Exercise 2. Get all the posts and Create the functions to update and delete Posts"
      ],
      "metadata": {
        "id": "l0f8nduhZ0fe"
      }
    },
    {
      "cell_type": "code",
      "source": [
        "import requests\n",
        "\n",
        "url = 'http://127.0.0.1:5000/posts'"
      ],
      "metadata": {
        "id": "qkoFA_dClQy2"
      },
      "execution_count": null,
      "outputs": []
    },
    {
      "cell_type": "markdown",
      "source": [
        "## Exercise 3. Create a REST API to manage tasks, with all the CRUD operations"
      ],
      "metadata": {
        "id": "qMKTR6QPO1HH"
      }
    },
    {
      "cell_type": "code",
      "source": [],
      "metadata": {
        "id": "RILpEQ0SSnq5"
      },
      "execution_count": null,
      "outputs": []
    },
    {
      "cell_type": "code",
      "source": [],
      "metadata": {
        "id": "H38AhhuFn7am"
      },
      "execution_count": null,
      "outputs": []
    },
    {
      "cell_type": "markdown",
      "source": [
        "# Extra points:\n",
        "\n",
        "\n",
        "*   Automatic id generation\n",
        "*   Persist your database in a file\n",
        "*   Schema to validate the input data\n",
        "\n",
        "\n"
      ],
      "metadata": {
        "id": "bdpAYrITQ6-N"
      }
    }
  ]
}